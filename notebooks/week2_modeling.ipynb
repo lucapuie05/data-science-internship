{
 "cells": [
  {
   "cell_type": "markdown",
   "id": "1ab62f6a",
   "metadata": {},
   "source": [
    "## Preparing for model training"
   ]
  },
  {
   "cell_type": "code",
   "execution_count": null,
   "id": "72efacb6",
   "metadata": {},
   "outputs": [],
   "source": [
    "from sklearn.linear_model import LogisticRegression\n",
    "from sklearn.ensemble import RandomForestClassifier\n",
    "from sklearn.model_selection import train_test_split, cross_validate, GridSearchCV, RandomizedSearchCV\n",
    "from sklearn.metrics import accuracy_score, classification_report, precision_score, f1_score, roc_auc_score, confusion_matrix, ConfusionMatrixDisplay, roc_curve\n",
    "from sklearn.preprocessing import StandardScaler, OneHotEncoder\n",
    "from sklearn.compose import ColumnTransformer\n",
    "from sklearn.pipeline import Pipeline\n",
    "import pandas as pd\n",
    "from xgboost import XGBClassifier\n",
    "from sklearn.svm import SVC \n",
    "from lightgbm import LGBMClassifier\n",
    "import numpy as np\n",
    "import pickle\n",
    "import matplotlib.pyplot as plt\n",
    "import os"
   ]
  },
  {
   "cell_type": "code",
   "execution_count": null,
   "id": "0cd01cee",
   "metadata": {},
   "outputs": [],
   "source": [
    "df = pd.read_csv(r'C:/Users/user/OneDrive/Desktop/data-science-internship/data/cleaned/cleaned_dataset.csv')"
   ]
  },
  {
   "cell_type": "code",
   "execution_count": null,
   "id": "1e5b3771",
   "metadata": {},
   "outputs": [],
   "source": [
    "df = df.drop(columns = ['hotel', 'arrival_date_month', 'assigned_room_type', 'reserved_room_type', 'season'])"
   ]
  },
  {
   "cell_type": "code",
   "execution_count": null,
   "id": "3f5fc78f",
   "metadata": {},
   "outputs": [],
   "source": [
    "df.info()"
   ]
  },
  {
   "cell_type": "code",
   "execution_count": null,
   "id": "55854e5e",
   "metadata": {},
   "outputs": [],
   "source": [
    "df.columns = df.columns.str.replace('[^A-Za-z0-9_]+', '_', regex=True)"
   ]
  },
  {
   "cell_type": "code",
   "execution_count": null,
   "id": "7a0a9830",
   "metadata": {},
   "outputs": [],
   "source": [
    "x = df.drop(columns = 'is_canceled')\n",
    "y = df['is_canceled']"
   ]
  },
  {
   "cell_type": "code",
   "execution_count": null,
   "id": "b8fe222e",
   "metadata": {},
   "outputs": [],
   "source": [
    "df.info()"
   ]
  },
  {
   "cell_type": "code",
   "execution_count": null,
   "id": "4176c595",
   "metadata": {},
   "outputs": [],
   "source": [
    "x_train, x_test, y_train, y_test = train_test_split(x, y, test_size = 0.2, random_state = 42)"
   ]
  },
  {
   "cell_type": "markdown",
   "id": "29fed492",
   "metadata": {},
   "source": [
    "## Logistic Regression"
   ]
  },
  {
   "cell_type": "code",
   "execution_count": null,
   "id": "e8323328",
   "metadata": {},
   "outputs": [],
   "source": [
    "pipeline = Pipeline(steps=[\n",
    "    ('scaler', StandardScaler()),\n",
    "    ('classifier', LogisticRegression(max_iter = 1000))\n",
    "\n",
    "])\n",
    "\n",
    "pipeline.fit(x_train, y_train)"
   ]
  },
  {
   "cell_type": "code",
   "execution_count": null,
   "id": "51da79bb",
   "metadata": {},
   "outputs": [],
   "source": [
    "y_pred = pipeline.predict(x_test)\n",
    "print('Accuracy of Logistic Regression', accuracy_score(y_test, y_pred))\n",
    "print('Classification raport', classification_report(y_test, y_pred))\n",
    "print('Precision score', precision_score(y_test, y_pred))\n",
    "print('F1-Score', f1_score(y_test, y_pred))"
   ]
  },
  {
   "cell_type": "markdown",
   "id": "abae5ecc",
   "metadata": {},
   "source": [
    "## Random Forest"
   ]
  },
  {
   "cell_type": "code",
   "execution_count": null,
   "id": "4e82bc3a",
   "metadata": {},
   "outputs": [],
   "source": [
    "pipeline = Pipeline([\n",
    "    ('scaler', StandardScaler()),\n",
    "    ('classifier', RandomForestClassifier(random_state = 42))\n",
    "\n",
    "])\n",
    "\n",
    "pipeline.fit(x_train , y_train)"
   ]
  },
  {
   "cell_type": "code",
   "execution_count": null,
   "id": "069d57ac",
   "metadata": {},
   "outputs": [],
   "source": [
    "y_pred = pipeline.predict(x_test)\n",
    "print('Accuracy of Logistic Regression', accuracy_score(y_test, y_pred))\n",
    "print('Classification raport', classification_report(y_test, y_pred))\n",
    "print('Precision score', precision_score(y_test, y_pred))\n",
    "print('F1-Score', f1_score(y_test, y_pred))"
   ]
  },
  {
   "cell_type": "markdown",
   "id": "cb87d1d8",
   "metadata": {},
   "source": [
    "## XGBoost"
   ]
  },
  {
   "cell_type": "code",
   "execution_count": null,
   "id": "67003953",
   "metadata": {},
   "outputs": [],
   "source": [
    "pipeline = Pipeline([\n",
    "    ('sclaer', StandardScaler()),\n",
    "    ('classifier', XGBClassifier(eval_metric = 'logloss', random_state = 42))\n",
    "])\n",
    "\n",
    "pipeline.fit(x_train, y_train)"
   ]
  },
  {
   "cell_type": "code",
   "execution_count": null,
   "id": "f795247f",
   "metadata": {},
   "outputs": [],
   "source": [
    "y_pred = pipeline.predict(x_test)\n",
    "print('Accuracy of Logistic Regression', accuracy_score(y_test, y_pred))\n",
    "print('Classification raport', classification_report(y_test, y_pred))\n",
    "print('Precision score', precision_score(y_test, y_pred))\n",
    "print('F1-Score', f1_score(y_test, y_pred))"
   ]
  },
  {
   "cell_type": "markdown",
   "id": "13e619df",
   "metadata": {},
   "source": [
    "## SVM(Support Vector Machine)"
   ]
  },
  {
   "cell_type": "code",
   "execution_count": null,
   "id": "8910bfb2",
   "metadata": {},
   "outputs": [],
   "source": [
    "pipeline =Pipeline([\n",
    "    ('scaler', StandardScaler()),\n",
    "    ('svm', SVC(kernel = 'rbf', random_state = 42))\n",
    "])\n",
    "\n",
    "pipeline.fit(x_train, y_train)"
   ]
  },
  {
   "cell_type": "code",
   "execution_count": null,
   "id": "ef2b9b96",
   "metadata": {},
   "outputs": [],
   "source": [
    "y_pred = pipeline.predict(x_test)\n",
    "print('Accuracy of Logistic Regression', accuracy_score(y_test, y_pred))\n",
    "print('Classification raport', classification_report(y_test, y_pred))\n",
    "print('Precision score', precision_score(y_test, y_pred))\n",
    "print('F1-Score', f1_score(y_test, y_pred))"
   ]
  },
  {
   "cell_type": "markdown",
   "id": "e9cbdea4",
   "metadata": {},
   "source": [
    "## LightGBM"
   ]
  },
  {
   "cell_type": "code",
   "execution_count": null,
   "id": "16411d93",
   "metadata": {},
   "outputs": [],
   "source": [
    "df.columns = df.columns.str.replace(r'[^A-Za-z0-9_]+', '_', regex=True)\n",
    "x_train.columns = x_train.columns.str.replace(r'[^A-Za-z0-9_]+', '_', regex=True)\n",
    "x_test.columns = x_test.columns.str.replace(r'[^A-Za-z0-9_]+', '_', regex=True)\n"
   ]
  },
  {
   "cell_type": "code",
   "execution_count": null,
   "id": "71eff33e",
   "metadata": {},
   "outputs": [],
   "source": [
    "model = LGBMClassifier(random_state = 42)\n",
    "model.fit(x_train, y_train)"
   ]
  },
  {
   "cell_type": "code",
   "execution_count": null,
   "id": "8b861557",
   "metadata": {},
   "outputs": [],
   "source": [
    "y_pred = model.predict(x_test)\n",
    "print('Accuracy of Logistic Regression', accuracy_score(y_test, y_pred))\n",
    "print('Classification raport', classification_report(y_test, y_pred))\n",
    "print('Precision score', precision_score(y_test, y_pred))\n",
    "print('F1-Score', f1_score(y_test, y_pred))"
   ]
  },
  {
   "cell_type": "markdown",
   "id": "409d0f0d",
   "metadata": {},
   "source": [
    "## Cross-Validation"
   ]
  },
  {
   "cell_type": "code",
   "execution_count": null,
   "id": "3b50eee3",
   "metadata": {},
   "outputs": [],
   "source": [
    "models = {\n",
    "    'Logistic Regression': LogisticRegression(max_iter = 100000),\n",
    "    'Random Forest': RandomForestClassifier(random_state = 42),\n",
    "    'XGBoost': XGBClassifier(eval_metric = 'logloss', random_state = 42),\n",
    "    'SVM': SVC(kernel = 'rbf', max_iter = -1, random_state = 42),\n",
    "    'LightGBM': LGBMClassifier(random_state = 42)\n",
    "}\n",
    "scoring = ['accuracy', 'f1', 'roc_auc']"
   ]
  },
  {
   "cell_type": "code",
   "execution_count": null,
   "id": "fd802267",
   "metadata": {},
   "outputs": [],
   "source": [
    "results_df = pd.DataFrame([\n",
    "    {\n",
    "        'Model': name,\n",
    "        'Accuracy': np.mean(scores['test_accuracy']),\n",
    "        'F1 Score': np.mean(scores['test_f1']),\n",
    "        'ROC AUC': np.mean(scores['test_roc_auc'])\n",
    "    }\n",
    "    for name, model in models.items()\n",
    "    for scores in [cross_validate(model, x, y, cv=5, scoring=scoring)]\n",
    "])\n",
    "\n",
    "# Afișează tabelul final sortat\n",
    "print(results_df.sort_values(by='F1 Score', ascending=False))"
   ]
  },
  {
   "cell_type": "code",
   "execution_count": null,
   "id": "1a129998",
   "metadata": {},
   "outputs": [],
   "source": [
    "param_grid = {\n",
    "    'n_estimators': [50, 100, 150],\n",
    "    'max_depth': [None, 5, 10]\n",
    "}\n",
    "\n",
    "grid_search = GridSearchCV(RandomForestClassifier(random_state=42),\n",
    "                           param_grid,\n",
    "                           cv=5,\n",
    "                           scoring='f1',\n",
    "                           n_jobs=-1)\n",
    "\n",
    "grid_search.fit(x_train, y_train)\n",
    "\n",
    "print(\"Best parameters:\", grid_search.best_params_)\n",
    "print(\"Best F1 score:\", grid_search.best_score_)\n"
   ]
  },
  {
   "cell_type": "code",
   "execution_count": null,
   "id": "a595e69c",
   "metadata": {},
   "outputs": [],
   "source": [
    "best_params = grid_search.best_params_\n",
    "\n",
    "final_model = RandomForestClassifier(**best_params, random_state=42)\n",
    "final_model.fit(x_train, y_train)\n"
   ]
  },
  {
   "cell_type": "code",
   "execution_count": null,
   "id": "fba3d0d1",
   "metadata": {},
   "outputs": [],
   "source": [
    "\n",
    "y_pred = final_model.predict(x_test)\n",
    "\n",
    "print(\"Test F1 score:\", f1_score(y_test, y_pred))\n",
    "print(\"Test Accuracy:\", accuracy_score(y_test, y_pred))\n",
    "# Pentru roc_auc ai nevoie să faci predict_proba:\n",
    "y_proba = final_model.predict_proba(x_test)[:, 1]\n",
    "print(\"Test ROC AUC:\", roc_auc_score(y_test, y_proba))\n"
   ]
  },
  {
   "cell_type": "code",
   "execution_count": null,
   "id": "65ceceec",
   "metadata": {},
   "outputs": [],
   "source": [
    "param_dist = {\n",
    "    'n_estimators': [50, 100, 150, 200, 300, 500],\n",
    "    'max_depth': [None, 5, 10, 20, 30],\n",
    "    'min_samples_split': [2, 5, 10, 20],\n",
    "    'min_samples_leaf': [2, 5, 10, 20],\n",
    "    'max_features': ['auto', 'sqrt', 'log2']\n",
    "}\n",
    "\n",
    "\n",
    "rf = RandomForestClassifier(random_state=42)\n",
    "\n",
    "\n",
    "random_search = RandomizedSearchCV(\n",
    "    estimator=rf,\n",
    "    param_distributions=param_dist,\n",
    "    n_iter=100, \n",
    "    scoring='f1',\n",
    "    cv=5,\n",
    "    verbose=2,\n",
    "    random_state=42,\n",
    "    n_jobs=-1\n",
    ")\n",
    "\n",
    "\n",
    "random_search.fit(x_train, y_train)\n",
    "\n",
    "\n",
    "print(\"Best parameters:\", random_search.best_params_)\n",
    "print(\"Best F1 score:\", random_search.best_score_)"
   ]
  },
  {
   "cell_type": "code",
   "execution_count": null,
   "id": "03d9cac0",
   "metadata": {},
   "outputs": [],
   "source": [
    "best_params = {\n",
    "    'n_estimators': 100,\n",
    "    'min_samples_split': 5,\n",
    "    'min_samples_leaf': 2,\n",
    "    'max_features': 'sqrt',\n",
    "    'max_depth': 20,\n",
    "    'random_state': 42\n",
    "}\n",
    "\n",
    "\n",
    "best_rf = RandomForestClassifier(**best_params)\n",
    "\n",
    "\n",
    "best_rf.fit(x_train, y_train)\n",
    "\n",
    "from sklearn.metrics import f1_score, accuracy_score, precision_score, recall_score\n",
    "\n",
    "y_pred = best_rf.predict(x_test)\n",
    "\n",
    "print(\"Test Accuracy:\", accuracy_score(y_test, y_pred))\n",
    "print(\"Test F1 Score:\", f1_score(y_test, y_pred))\n",
    "print(\"Test Precision:\", precision_score(y_test, y_pred))\n",
    "print(\"Test Recall:\", recall_score(y_test, y_pred))\n"
   ]
  },
  {
   "cell_type": "code",
   "execution_count": null,
   "id": "eb6c3930",
   "metadata": {},
   "outputs": [],
   "source": [
    "from sklearn.metrics import f1_score\n",
    "\n",
    "y_train_pred = model.predict(x_train)\n",
    "y_test_pred = model.predict(x_test)\n",
    "\n",
    "f1_train = f1_score(y_train, y_train_pred)\n",
    "f1_test = f1_score(y_test, y_test_pred)\n",
    "\n",
    "print(f\"F1 Score - Train: {f1_train:.4f}\")\n",
    "print(f\"F1 Score - Test:  {f1_test:.4f}\")\n"
   ]
  },
  {
   "cell_type": "code",
   "execution_count": null,
   "id": "49a93717",
   "metadata": {},
   "outputs": [],
   "source": [
    "model = RandomForestClassifier(\n",
    "    n_estimators=100,         \n",
    "    max_depth=35,             \n",
    "    min_samples_split=10,      \n",
    "    min_samples_leaf=5,      \n",
    "    max_features='sqrt',      \n",
    "    random_state=42\n",
    ")\n",
    "\n",
    "\n",
    "model.fit(x_train, y_train)\n",
    "\n",
    "\n",
    "y_train_pred = model.predict(x_train)\n",
    "y_test_pred = model.predict(x_test)\n",
    "\n",
    "f1 = f1_score(y, y_pred)\n",
    "accuracy = accuracy_score(y, y_pred)\n",
    "precision = precision_score(y, y_pred)\n",
    "recall = recall_score(y, y_pred)\n",
    "\n",
    "print(f\"F1 Score: {f1:.4f}\")\n",
    "print(f\"Accuracy: {accuracy:.4f}\")\n",
    "print(f\"Precision: {precision:.4f}\")\n",
    "print(f\"Recall: {recall:.4f}\")"
   ]
  },
  {
   "cell_type": "markdown",
   "id": "728e1607",
   "metadata": {},
   "source": [
    "## XGBoost Tunning"
   ]
  },
  {
   "cell_type": "code",
   "execution_count": null,
   "id": "cf8dab8b",
   "metadata": {},
   "outputs": [],
   "source": [
    "model = XGBClassifier(eval_metric='logloss', use_label_encoder=False, random_state=42)\n",
    "\n",
    "\n",
    "param_dist = {\n",
    "    'n_estimators': [50, 100, 150, 200],\n",
    "    'max_depth': [3, 5, 7, 10, 15],\n",
    "    'learning_rate': [0.01, 0.05, 0.1, 0.2],\n",
    "    'subsample': [0.6, 0.8, 1.0],\n",
    "    'colsample_bytree': [0.6, 0.8, 1.0],\n",
    "    'min_child_weight': [1, 3, 5]\n",
    "}\n",
    "\n",
    "\n",
    "random_search = RandomizedSearchCV(\n",
    "    model,\n",
    "    param_distributions=param_dist,\n",
    "    n_iter=30,             \n",
    "    scoring='f1',\n",
    "    cv=5,\n",
    "    verbose=1,\n",
    "    n_jobs=-1,\n",
    "    random_state=42\n",
    ")\n",
    "\n",
    "\n",
    "random_search.fit(x_train, y_train)\n",
    "\n",
    "\n",
    "print(\"Best parameters:\", random_search.best_params_)\n",
    "print(\"Best F1 score (cv):\", random_search.best_score_)"
   ]
  },
  {
   "cell_type": "code",
   "execution_count": null,
   "id": "322c6c38",
   "metadata": {},
   "outputs": [],
   "source": [
    "best_model = random_search.best_estimator_\n",
    "\n",
    "\n",
    "y_train_pred = best_model.predict(x_train)\n",
    "y_test_pred = best_model.predict(x_test)\n",
    "\n",
    "f1_train = f1_score(y_train, y_train_pred)\n",
    "f1_test = f1_score(y_test, y_test_pred)\n",
    "\n",
    "print(f\"F1 Score - Train: {f1_train:.4f}\")\n",
    "print(f\"F1 Score - Test:  {f1_test:.4f}\")"
   ]
  },
  {
   "cell_type": "code",
   "execution_count": null,
   "id": "f076d12e",
   "metadata": {},
   "outputs": [],
   "source": [
    "param_dist = {\n",
    "    'n_estimators': [50, 100, 150, 200],\n",
    "    'max_depth': [3, 5, 7, 10],\n",
    "    'learning_rate': [0.01, 0.05, 0.1, 0.2],\n",
    "    'subsample': [0.6, 0.8, 1.0],\n",
    "    'colsample_bytree': [0.6, 0.8, 1.0],\n",
    "    'reg_alpha': [0, 0.01, 0.1, 1],\n",
    "    'reg_lambda': [1, 1.5, 2]\n",
    "}\n",
    "\n",
    "xgb = XGBClassifier(random_state=42, use_label_encoder=False, eval_metric='logloss')\n",
    "\n",
    "random_search = RandomizedSearchCV(xgb, param_distributions=param_dist, n_iter=30,\n",
    "                                   scoring='f1', cv=5, verbose=1, n_jobs=-1, random_state=42)\n",
    "\n",
    "random_search.fit(x_train, y_train)\n",
    "\n",
    "print(\"Best parameters:\", random_search.best_params_)\n",
    "print(\"Best F1 score (CV):\", random_search.best_score_)\n",
    "\n",
    "\n",
    "best_model = random_search.best_estimator_\n",
    "\n",
    "y_train_pred = best_model.predict(x_train)\n",
    "y_test_pred = best_model.predict(x_test)\n",
    "\n",
    "print(f\"F1 Score - Train: {f1_score(y_train, y_train_pred):.4f}\")\n",
    "print(f\"F1 Score - Test:  {f1_score(y_test, y_test_pred):.4f}\")"
   ]
  },
  {
   "cell_type": "code",
   "execution_count": null,
   "id": "e736ff2d",
   "metadata": {},
   "outputs": [],
   "source": [
    "\n",
    "best_params = {\n",
    "    'subsample': 0.6,\n",
    "    'reg_lambda': 2,\n",
    "    'reg_alpha': 1,\n",
    "    'n_estimators': 200,\n",
    "    'max_depth': 6,\n",
    "    'learning_rate': 0.05,\n",
    "    'colsample_bytree': 0.8,\n",
    "    'random_state': 42\n",
    "}\n",
    "\n",
    "\n",
    "model = XGBClassifier(**best_params)\n",
    "\n",
    "\n",
    "model.fit(x_train, y_train)\n",
    "\n",
    "\n",
    "y_train_pred = model.predict(x_train)\n",
    "y_test_pred = model.predict(x_test)\n",
    "\n",
    "\n",
    "acc_train = accuracy_score(y_train, y_train_pred)\n",
    "prec_train = precision_score(y_train, y_train_pred)\n",
    "recall_train = recall_score(y_train, y_train_pred)\n",
    "f1_train = f1_score(y_train, y_train_pred)\n",
    "\n",
    "\n",
    "acc_test = accuracy_score(y_test, y_test_pred)\n",
    "prec_test = precision_score(y_test, y_test_pred)\n",
    "recall_test = recall_score(y_test, y_test_pred)\n",
    "f1_test = f1_score(y_test, y_test_pred)\n",
    "\n",
    "print(\"Train set metrics:\")\n",
    "print(f\"Accuracy:  {acc_train:.4f}\")\n",
    "print(f\"Precision: {prec_train:.4f}\")\n",
    "print(f\"Recall:    {recall_train:.4f}\")\n",
    "print(f\"F1 Score:  {f1_train:.4f}\")\n",
    "\n",
    "print(\"\\nTest set metrics:\")\n",
    "print(f\"Accuracy:  {acc_test:.4f}\")\n",
    "print(f\"Precision: {prec_test:.4f}\")\n",
    "print(f\"Recall:    {recall_test:.4f}\")\n",
    "print(f\"F1 Score:  {f1_test:.4f}\")\n",
    "\n",
    "\n",
    "\n",
    "model.fit(x, y)\n",
    "\n",
    "\n",
    "y_pred = model.predict(x)\n",
    "\n",
    "\n",
    "metrics = {\n",
    "    'Accuracy': accuracy_score(y, y_pred),\n",
    "    'Precision': precision_score(y, y_pred),\n",
    "    'Recall': recall_score(y, y_pred),\n",
    "    'F1 Score': f1_score(y, y_pred)\n",
    "}\n",
    "\n",
    "\n",
    "results_df = pd.DataFrame([metrics])\n",
    "print(results_df.round(4))\n",
    "\n"
   ]
  },
  {
   "cell_type": "code",
   "execution_count": null,
   "id": "78f731e9",
   "metadata": {},
   "outputs": [],
   "source": [
    "\n",
    "pred_df = pd.DataFrame({'prediction': y_pred})\n",
    "pred_df.to_csv('C:/Users/user/OneDrive/Desktop/data-science-internship/data/results/test_predictions.csv', index=False)\n"
   ]
  },
  {
   "cell_type": "code",
   "execution_count": null,
   "id": "1934913a",
   "metadata": {},
   "outputs": [],
   "source": [
    "\n",
    "with open('C:/Users/user/OneDrive/Desktop/data-science-internship/outputs/best_model.pkl', 'wb') as file:\n",
    "    pickle.dump(model, file)\n",
    "\n"
   ]
  },
  {
   "cell_type": "code",
   "execution_count": null,
   "id": "e37174fb",
   "metadata": {},
   "outputs": [],
   "source": [
    "accuracy = accuracy_score(y, y_pred)\n",
    "precision = precision_score(y, y_pred)\n",
    "recall = recall_score(y, y_pred)\n",
    "f1 = f1_score(y, y_pred)\n",
    "\n",
    "print(accuracy)\n",
    "print(precision)\n",
    "print(recall)\n",
    "print(f1)"
   ]
  },
  {
   "cell_type": "code",
   "execution_count": null,
   "id": "672b9c38",
   "metadata": {},
   "outputs": [],
   "source": [
    "output_folder = 'C:/Users/user/OneDrive/Desktop/data-science-internship/outputs/plots/model_comparison'\n",
    "\n",
    "\n",
    "cm = confusion_matrix(y, y_pred)\n",
    "disp = ConfusionMatrixDisplay(confusion_matrix=cm)\n",
    "disp.plot(cmap=plt.cm.Blues)\n",
    "plt.title(\"Confusion Matrix\")\n",
    "plt.savefig(os.path.join(output_folder, \"confusion_matrix.png\"))\n",
    "plt.close()\n",
    "\n",
    "y_prob = model.predict_proba(x)[:, 1]  \n",
    "\n",
    "fpr, tpr, thresholds = roc_curve(y, y_prob)\n",
    "auc = roc_auc_score(y, y_prob)\n",
    "\n",
    "plt.plot(fpr, tpr, label=f\"ROC Curve (AUC = {auc:.4f})\")\n",
    "plt.plot([0,1], [0,1], 'k--')  \n",
    "plt.xlabel(\"False Positive Rate\")\n",
    "plt.ylabel(\"True Positive Rate\")\n",
    "plt.title(\"ROC Curve\")\n",
    "plt.legend()\n",
    "\n",
    "plt.savefig(os.path.join(output_folder, \"roc_curve.png\"))\n",
    "plt.close()\n",
    "\n",
    "\n",
    "metrics = {\n",
    "    'Accuracy': accuracy,\n",
    "    'F1 Score': f1,\n",
    "    'Precision': precision,\n",
    "    'Recall': recall\n",
    "}\n",
    "\n",
    "plt.bar(metrics.keys(), metrics.values(), color=['blue', 'green', 'orange', 'red'])\n",
    "plt.ylim(0,1)\n",
    "plt.title(\"Model Performance Metrics\")\n",
    "plt.savefig(os.path.join(output_folder, \"performane_metrics.png\"))\n",
    "plt.close()\n"
   ]
  },
  {
   "cell_type": "code",
   "execution_count": null,
   "id": "5f471e82",
   "metadata": {},
   "outputs": [],
   "source": [
    "\n",
    "\n",
    "\n",
    "xgb_metrics = {\n",
    "    'Accuracy': 0.8928,\n",
    "    'Precision': 0.8854,\n",
    "    'Recall': 0.8112,\n",
    "    'F1 Score': 0.8467\n",
    "}\n",
    "\n",
    "rf_metrics = {\n",
    "    'Accuracy': 0.8714,\n",
    "    'Precision': 0.8800,\n",
    "    'Recall': 0.7970,\n",
    "    'F1 Score': 0.8010\n",
    "}\n",
    "\n",
    "\n",
    "metrics_names = list(xgb_metrics.keys())\n",
    "xgb_values = list(xgb_metrics.values())\n",
    "rf_values = list(rf_metrics.values())\n",
    "\n",
    "x = np.arange(len(metrics_names))  \n",
    "width = 0.35  \n",
    "\n",
    "\n",
    "plt.figure(figsize=(10, 6))\n",
    "plt.bar(x - width/2, xgb_values, width, label='XGBoost', color='royalblue')\n",
    "plt.bar(x + width/2, rf_values, width, label='Random Forest', color='orange')\n",
    "\n",
    "plt.xlabel('Metrics')\n",
    "plt.ylabel('Value')\n",
    "plt.title('Performance comparison: XGBoost vs Random Forest')\n",
    "plt.xticks(x, metrics_names)\n",
    "plt.ylim(0, 1)\n",
    "plt.legend()\n",
    "plt.grid(axis='y', linestyle='--', alpha=0.7)\n",
    "\n",
    "plt.tight_layout()\n",
    "plt.savefig(os.path.join(output_folder, \"XGBoost_vs_RDF.png\"))\n",
    "plt.close()\n",
    "\n"
   ]
  }
 ],
 "metadata": {
  "kernelspec": {
   "display_name": "venv",
   "language": "python",
   "name": "python3"
  },
  "language_info": {
   "codemirror_mode": {
    "name": "ipython",
    "version": 3
   },
   "file_extension": ".py",
   "mimetype": "text/x-python",
   "name": "python",
   "nbconvert_exporter": "python",
   "pygments_lexer": "ipython3",
   "version": "3.13.5"
  }
 },
 "nbformat": 4,
 "nbformat_minor": 5
}
